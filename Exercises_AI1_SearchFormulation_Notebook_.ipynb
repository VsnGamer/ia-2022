{
  "cells": [
    {
      "cell_type": "markdown",
      "metadata": {},
      "source": [
        "# Artificial Intelligence\n",
        "## L.EIC – 3rd Year/2nd Semester\n",
        "### Exercise Sheet 1\n",
        "# Solving Problems by Searching"
      ]
    },
    {
      "cell_type": "markdown",
      "metadata": {},
      "source": [
        "## The Two Buckets Problem\n",
        "\n",
        "<img src=\"https://qph.cf2.quoracdn.net/main-qimg-45726b16b460cae0147ae8ca245a8fb0-pjlq\" width=\"250px\" height=\"250px\" align=\"right\">\n",
        "\n",
        "Two buckets of capacities **c1** (e.g. 4 liters) and **c2** (e.g. 3 liters), respectively, are initially empty. The buckets do not have any intermediate markings. The only operations you can perform are:\n",
        "\n",
        "- Fill (completely) a bucket \n",
        "- Empty a bucket.\n",
        "- Pour one bucket into the other (until the target one is full or the source one is empty).\n",
        "\n",
        "The aim is to determine which operations to carry out so that the first bucket contains exactly **n** liters (e.g. 2 litres)."
      ]
    },
    {
      "cell_type": "markdown",
      "metadata": {},
      "source": [
        "Formulate this problem as a search problem by defining the state representation, initial state, operators (their name, preconditions, effects, and cost), and objective test."
      ]
    },
    {
      "attachments": {},
      "cell_type": "markdown",
      "metadata": {},
      "source": [
        "### States\n",
        "Two variables representing the current amount of liters in a bucket, lets say **b1** and **b2** with ranges [0, c1] and [0, c2] respectively.\n",
        "\n",
        "\n",
        "### Initial state\n",
        "Any valid state.\n",
        "\n",
        "\n",
        "### Operators\n",
        "- Empty the first bucket `empty1`.\n",
        "- Empty the second bucket `empty2`.\n",
        "\n",
        "   Emptying an empty bucket does nothing\n",
        "\n",
        "- Fill the first bucket `fill1`.\n",
        "- Fill the second bucket `fill2`.\n",
        "\n",
        "   Filling a full bucket does nothing\n",
        "\n",
        "- Pour the maximum amount of liters from the first bucket into the second bucket `pour12`.\n",
        "- Pour the maximum amount of liters from the second bucket into the first bucket `pour21`.\n",
        "\n",
        "   The bucket we are pouring from needs to have a nonzero amount of liters and the bucket we are pouring to mustn't be already completely filled.\n",
        "   \n",
        "   Furthermore the amount poured is either the total liters of the bucket we are pouring from or the remaining liters until the bucket we are pouring into reaches its maximum capacity, whichever comes first.\n",
        "\n",
        "### Cost\n",
        "All operations have the same unit cost"
      ]
    },
    {
      "cell_type": "markdown",
      "metadata": {},
      "source": [
        "What is the size of the state space for this problem? Represent the state space by drawing the possible objective states and displaying some of the possible transitions from the initial state."
      ]
    },
    {
      "cell_type": "raw",
      "metadata": {},
      "source": [
        "                     (0,0)\n",
        "                    /     \\\n",
        "        fill1 -> (4,0)   (0,3) <- fill2         # cannot pour, empty does nothing\n",
        "                /  |  \\\n",
        "               /   |   \\\n",
        "pour12 -> (1,3)  (4,3)  (0,0) <- empty1         # cannot pour21 because b2 is empty, cannot fill1 because it's already full, cannot empty2 because it's already empty \n",
        "                   ^\n",
        "                   |\n",
        "                 fill2"
      ]
    },
    {
      "cell_type": "markdown",
      "metadata": {},
      "source": [
        "Solve the problem by hand, using tree search. What solutions have you found?"
      ]
    },
    {
      "cell_type": "raw",
      "metadata": {},
      "source": [
        "\n",
        "\n"
      ]
    },
    {
      "cell_type": "markdown",
      "metadata": {},
      "source": [
        "### Buildind a computational approach to handle the problem\n",
        "\n",
        "To build a program to solve the buckets problem, we will implement a solution that separates the problem definition from the algorithms used to traverse the state space. This way, we can reuse our implementations of the search strategies in other problems."
      ]
    },
    {
      "cell_type": "markdown",
      "metadata": {},
      "source": [
        "#### Representing the two buckets problem as a search problem\n",
        "\n",
        "Let's start by defining a state for the buckets problem. For that, it'll suffice to aggregate two quantities, each representing the amount of water in one of the buckets. We also define a way of printing the state."
      ]
    },
    {
      "cell_type": "code",
      "execution_count": 2,
      "metadata": {
        "trusted": true
      },
      "outputs": [],
      "source": [
        "class BucketState:\n",
        "    c1 = 4   # capacity for bucket 1\n",
        "    c2 = 3   # capacity for bucket 2\n",
        "    \n",
        "    def __init__(self, b1, b2):\n",
        "        self.b1 = b1\n",
        "        self.b2 = b2\n",
        "\n",
        "    '''needed for the visited list'''\n",
        "    def __eq__(self, other):\n",
        "        if isinstance(other, self.__class__):\n",
        "            return self.__dict__ == other.__dict__\n",
        "        else:\n",
        "            return False\n",
        "\n",
        "    def __ne__(self, other):\n",
        "        \"\"\"Overrides the default implementation (unnecessary in Python 3)\"\"\"\n",
        "        return not self.__eq__(other)\n",
        "    \n",
        "    def __hash__(self):\n",
        "        return hash((self.b1, self.b2)) \n",
        "    ''' - '''\n",
        "\n",
        "    def __str__(self):\n",
        "        return \"(\" + str(self.b1) + \", \" + str(self.b2) + \")\"\n",
        "\n",
        "    def __repr__(self):\n",
        "        return str(self)"
      ]
    },
    {
      "cell_type": "markdown",
      "metadata": {},
      "source": [
        "Now we define each of the operators on states:"
      ]
    },
    {
      "cell_type": "code",
      "execution_count": 3,
      "metadata": {
        "trusted": true
      },
      "outputs": [],
      "source": [
        "# emptying the first bucket\n",
        "def empty1(state):\n",
        "    if state.b1 > 0:\n",
        "        return BucketState(0, state.b2)\n",
        "    return None\n",
        "\n",
        "# emptying the second bucket\n",
        "def empty2(state):\n",
        "    if state.b2 > 0:\n",
        "        return BucketState(state.b1, 0)\n",
        "    return None\n",
        "\n",
        "def fill1(state):\n",
        "    if state.b1 < state.c1:\n",
        "        return BucketState(state.c1, state.b2)\n",
        "    return None\n",
        "\n",
        "def fill2(state):\n",
        "    if state.b2 < state.c2:\n",
        "        return BucketState(state.b1, state.c2)\n",
        "    return None\n",
        "\n",
        "def pour12(state):\n",
        "    if state.b1 > 0 and state.b2 < state.c2:\n",
        "        return BucketState(max(0, state.b1 - (state.c2 - state.b2)), min(state.c2, state.b2 + state.b1))\n",
        "    return None\n",
        "\n",
        "def pour21(state):\n",
        "    if state.b2 > 0 and state.b1 < state.c1:\n",
        "        return BucketState(min(state.c1, state.b1 + state.b2),max(0, state.b2 - (state.c1 - state.b1)))\n",
        "    return None"
      ]
    },
    {
      "cell_type": "markdown",
      "metadata": {},
      "source": [
        "The following function will aggregate all states that can be generated from a given one:"
      ]
    },
    {
      "cell_type": "code",
      "execution_count": 4,
      "metadata": {
        "trusted": true
      },
      "outputs": [],
      "source": [
        "def child_bucket_states(state):\n",
        "    new_states = []\n",
        "    if(empty1(state)):\n",
        "        new_states.append(empty1(state))\n",
        "    if(empty2(state)):\n",
        "        new_states.append(empty2(state))\n",
        "    if(fill1(state)):\n",
        "        new_states.append(fill1(state))\n",
        "    if(fill2(state)):\n",
        "        new_states.append(fill2(state))\n",
        "    if(pour12(state)):\n",
        "        new_states.append(pour12(state))\n",
        "    if(pour21(state)):\n",
        "        new_states.append(pour21(state))\n",
        "    # if(pour12_fill2(state)):\n",
        "    #     new_states.append(pour12_fill2(state))\n",
        "    # if(pour12_empty1(state)):\n",
        "    #     new_states.append(pour12_empty1(state))\n",
        "    # if(pour21_fill1(state)):\n",
        "    #     new_states.append(pour21_fill1(state))\n",
        "    # if(pour21_empty2(state)):\n",
        "    #     new_states.append(pour21_empty2(state))\n",
        "    return new_states"
      ]
    },
    {
      "cell_type": "markdown",
      "metadata": {},
      "source": [
        "Play around with the state transition operators and check if they are working properly:"
      ]
    },
    {
      "cell_type": "code",
      "execution_count": 5,
      "metadata": {
        "trusted": true
      },
      "outputs": [
        {
          "name": "stdout",
          "output_type": "stream",
          "text": [
            "(4, 0)\n",
            "[(4, 0), (0, 3)]\n"
          ]
        },
        {
          "data": {
            "text/plain": [
              "[(0, 0), (4, 3), (1, 3)]"
            ]
          },
          "execution_count": 5,
          "metadata": {},
          "output_type": "execute_result"
        }
      ],
      "source": [
        "s = BucketState(0, 0)\n",
        "s = fill1(s)\n",
        "print(s)\n",
        "\n",
        "level1 = child_bucket_states(BucketState(0, 0))\n",
        "print(level1)\n",
        "\n",
        "child_bucket_states(level1[0])\n",
        "\n",
        "# your code here\n"
      ]
    },
    {
      "cell_type": "markdown",
      "metadata": {},
      "source": [
        "Finally, we need to define the goal condition:"
      ]
    },
    {
      "cell_type": "code",
      "execution_count": 6,
      "metadata": {
        "trusted": true
      },
      "outputs": [],
      "source": [
        "def goal_bucket_state(state):\n",
        "    return state.b1 == 2"
      ]
    },
    {
      "cell_type": "markdown",
      "metadata": {},
      "source": [
        "Test your goal condition:"
      ]
    },
    {
      "cell_type": "code",
      "execution_count": 7,
      "metadata": {
        "trusted": true
      },
      "outputs": [
        {
          "name": "stdout",
          "output_type": "stream",
          "text": [
            "False\n",
            "False\n",
            "True\n",
            "True\n"
          ]
        }
      ],
      "source": [
        "print(goal_bucket_state(BucketState(0,0))) # false\n",
        "print(goal_bucket_state(BucketState(1,1))) # false\n",
        "print(goal_bucket_state(BucketState(2,0))) # true\n",
        "print(goal_bucket_state(BucketState(2,3))) # true"
      ]
    },
    {
      "cell_type": "markdown",
      "metadata": {},
      "source": [
        "#### Implementing search algorithms\n",
        "\n",
        "Let us start by defining an appropriate structure to represent a node in a search tree. Each tree node will include:\n",
        "- a state of the problem\n",
        "- a link to its parent (to allow traveling from a leaf node towards the root of the tree)\n",
        "- a list of child nodes"
      ]
    },
    {
      "cell_type": "code",
      "execution_count": 8,
      "metadata": {
        "trusted": true
      },
      "outputs": [],
      "source": [
        "# A generic definition of a tree node holding a state of the problem\n",
        "class TreeNode:\n",
        "    def __init__(self, state, parent=None):\n",
        "        self.state = state\n",
        "        self.parent = parent\n",
        "        self.children = []\n",
        "        if self.parent is None:\n",
        "            self.depth = 0\n",
        "        else:\n",
        "            self.depth = self.parent.depth + 1\n",
        "\n",
        "    def add_child(self, child_node):\n",
        "        self.children.append(child_node)\n",
        "        child_node.parent = self"
      ]
    },
    {
      "cell_type": "markdown",
      "metadata": {},
      "source": [
        "##### Breadth-first search\n",
        "\n",
        "Based on this structure, we can now implement breadth-first search. Note that we want the implementation to be independent of the problem at hand (in this case, the two buckets problem)."
      ]
    },
    {
      "cell_type": "code",
      "execution_count": 9,
      "metadata": {
        "trusted": true
      },
      "outputs": [],
      "source": [
        "from collections import deque\n",
        "\n",
        "def breadth_first_search(initial_state, goal_state_func, operators_func):\n",
        "    root = TreeNode(initial_state)   # create the root node in the search tree\n",
        "    queue = deque([root])   # initialize the queue to store the nodes\n",
        "    \n",
        "    while queue:\n",
        "        node = queue.popleft()   # get first element in the queue\n",
        "        if goal_state_func(node.state):   # check goal state\n",
        "            return node\n",
        "        \n",
        "        for state in operators_func(node.state):   # go through next states\n",
        "            # create tree node with the new state\n",
        "            child = TreeNode(state)\n",
        "            \n",
        "            # link child node to its parent in the tree\n",
        "            node.add_child(child)\n",
        "            \n",
        "            # enqueue the child node\n",
        "            queue.append(child)\n",
        "\n",
        "    return None"
      ]
    },
    {
      "cell_type": "markdown",
      "metadata": {},
      "source": [
        "We can now use this function to actually perform a breadth-first search on the buckets problem: we pass it the initial state, our goal condition function, and the function for obtaining child states."
      ]
    },
    {
      "cell_type": "code",
      "execution_count": 10,
      "metadata": {
        "trusted": true
      },
      "outputs": [
        {
          "name": "stdout",
          "output_type": "stream",
          "text": [
            "(2, 3)\n"
          ]
        }
      ],
      "source": [
        "goal = breadth_first_search(BucketState(0,0), \n",
        "                            goal_bucket_state, \n",
        "                            child_bucket_states)\n",
        "print(goal.state)"
      ]
    },
    {
      "cell_type": "markdown",
      "metadata": {},
      "source": [
        "In order to print the actual steps from the initial state to the last, we can take advantage of each node's link to its parent."
      ]
    },
    {
      "cell_type": "code",
      "execution_count": 11,
      "metadata": {
        "trusted": true
      },
      "outputs": [],
      "source": [
        "def print_solution(node):\n",
        "    print(node.state, end='')\n",
        "    if node.parent != None:\n",
        "        print(' <- ', end='')\n",
        "        print_solution(node.parent)\n",
        "        return\n",
        "    print()"
      ]
    },
    {
      "cell_type": "markdown",
      "metadata": {},
      "source": [
        "Now we can print the solution:"
      ]
    },
    {
      "cell_type": "code",
      "execution_count": 12,
      "metadata": {
        "trusted": true
      },
      "outputs": [
        {
          "name": "stdout",
          "output_type": "stream",
          "text": [
            "(2, 3) <- (4, 1) <- (0, 1) <- (1, 0) <- (1, 3) <- (4, 0) <- (0, 0)\n"
          ]
        }
      ],
      "source": [
        "print_solution(goal)"
      ]
    },
    {
      "cell_type": "markdown",
      "metadata": {},
      "source": [
        "If we need a description for each of the employed operators, we could have each operation function return also such a description, and modify the TreeNode class so that each node also includes a description of the edge to get there. We leave that as an exercise after class."
      ]
    },
    {
      "cell_type": "markdown",
      "metadata": {},
      "source": [
        "##### Depth-first search\n",
        "\n",
        "Implement depth-first search (again, in a manner that is independent of the problem at hand). You can start from your breadth-first search implementation and with minor changes get an implementation for depth-first search."
      ]
    },
    {
      "cell_type": "code",
      "execution_count": 13,
      "metadata": {
        "trusted": true
      },
      "outputs": [],
      "source": [
        "def depth_first_search(initial_state, goal_state_func, operators_func):\n",
        "    root = TreeNode(initial_state)   # create the root node in the search tree\n",
        "    queue = deque([root])   # initialize the queue to store the nodes\n",
        "    visited = set([])\n",
        "    \n",
        "    while queue:\n",
        "        node = queue.popleft()   # get first element in the queue\n",
        "        if goal_state_func(node.state):   # check goal state\n",
        "            return node\n",
        "        \n",
        "        visited.add(node.state)\n",
        "        \n",
        "        for state in operators_func(node.state):   # go through next states\n",
        "            if state in visited:\n",
        "                continue\n",
        "            # create tree node with the new state\n",
        "            child = TreeNode(state)\n",
        "            \n",
        "            # link child node to its parent in the tree\n",
        "            node.add_child(child)\n",
        "            \n",
        "            # enqueue the child node\n",
        "            queue.appendleft(child)\n",
        "\n",
        "    return None\n",
        "    "
      ]
    },
    {
      "cell_type": "markdown",
      "metadata": {},
      "source": [
        "Test it on the two buckets problem."
      ]
    },
    {
      "cell_type": "code",
      "execution_count": 14,
      "metadata": {
        "trusted": true
      },
      "outputs": [
        {
          "name": "stdout",
          "output_type": "stream",
          "text": [
            "(2, 3)\n",
            "(2, 3) <- (4, 1) <- (0, 1) <- (1, 0) <- (1, 3) <- (4, 0) <- (4, 3) <- (4, 2) <- (3, 3) <- (3, 0) <- (0, 3) <- (0, 0)\n"
          ]
        }
      ],
      "source": [
        "goal = depth_first_search(BucketState(0,0), \n",
        "                            goal_bucket_state, \n",
        "                            child_bucket_states)\n",
        "print(goal.state)\n",
        "print_solution(goal)"
      ]
    },
    {
      "cell_type": "markdown",
      "metadata": {},
      "source": [
        "If you are unable to get a solution, think about it: depth-first search is not a complete search method, and one of the reasons for that is if the state space contains cycles. As such, you need to make sure you avoid entering into a cycle by keeping a visited nodes list or set and checking that list whenever you generate a new state."
      ]
    },
    {
      "cell_type": "markdown",
      "metadata": {},
      "source": [
        "##### Depth-limited search\n",
        "\n",
        "Another way to make it work is to impose a depth limit to the problem. Implement depth-limited search."
      ]
    },
    {
      "cell_type": "code",
      "execution_count": 15,
      "metadata": {
        "trusted": true
      },
      "outputs": [],
      "source": [
        "def depth_limited_search(initial_state, goal_state_func, operators_func, depth_limit):\n",
        "    root = TreeNode(initial_state)\n",
        "    queue = deque([root])\n",
        "    \n",
        "    while queue:\n",
        "        node = queue.popleft()\n",
        "        if goal_state_func(node.state):\n",
        "            return node\n",
        "        \n",
        "        if node.depth > depth_limit:\n",
        "            continue\n",
        "        \n",
        "        for state in operators_func(node.state):\n",
        "            child = TreeNode(state, node)\n",
        "            \n",
        "            #node.add_child(child)\n",
        "            queue.appendleft(child)\n",
        "\n",
        "    return None\n"
      ]
    },
    {
      "cell_type": "markdown",
      "metadata": {},
      "source": [
        "Test it on the two buckets problem."
      ]
    },
    {
      "cell_type": "code",
      "execution_count": 16,
      "metadata": {
        "trusted": true
      },
      "outputs": [
        {
          "name": "stdout",
          "output_type": "stream",
          "text": [
            "(2, 0)\n",
            "(2, 0) <- (0, 2) <- (4, 2) <- (3, 3) <- (3, 0) <- (0, 3) <- (0, 0)\n"
          ]
        }
      ],
      "source": [
        "goal = depth_limited_search(BucketState(0,0), \n",
        "                            goal_bucket_state, \n",
        "                            child_bucket_states, 5)\n",
        "print(goal.state)\n",
        "print_solution(goal)\n"
      ]
    },
    {
      "cell_type": "markdown",
      "metadata": {},
      "source": [
        "##### Iterative deepening search\n",
        "\n",
        "Based on depth-limited, you can easily implement iterative-deepening search."
      ]
    },
    {
      "cell_type": "code",
      "execution_count": 17,
      "metadata": {
        "trusted": true
      },
      "outputs": [],
      "source": [
        "def iterative_deepening_search(initial_state, goal_state_func, operators_func, depth_limit=None):\n",
        "    i = depth_limit or 0\n",
        "    while True:\n",
        "        result = depth_limited_search(initial_state, goal_state_func, operators_func, i)\n",
        "        if result != None:\n",
        "            return result\n",
        "        if depth_limit != None and i >= depth_limit:\n",
        "            return None\n",
        "        i += 1"
      ]
    },
    {
      "cell_type": "markdown",
      "metadata": {},
      "source": [
        "Again, test it on the two buckets problem."
      ]
    },
    {
      "cell_type": "code",
      "execution_count": 18,
      "metadata": {
        "trusted": true
      },
      "outputs": [
        {
          "name": "stdout",
          "output_type": "stream",
          "text": [
            "(2, 0)\n",
            "(2, 0) <- (0, 2) <- (4, 2) <- (3, 3) <- (3, 0) <- (0, 3) <- (0, 0)\n"
          ]
        }
      ],
      "source": [
        "goal = iterative_deepening_search(BucketState(0,0), \n",
        "                            goal_bucket_state, \n",
        "                            child_bucket_states,5)\n",
        "print(goal.state)\n",
        "print_solution(goal)"
      ]
    },
    {
      "cell_type": "markdown",
      "metadata": {},
      "source": [
        "##### Greedy search\n",
        "\n",
        "Start by defining an heuristic function and implement the Greedy Search algorithm (independent of the problem at hand)"
      ]
    },
    {
      "cell_type": "code",
      "execution_count": 19,
      "metadata": {
        "trusted": true
      },
      "outputs": [],
      "source": [
        "def heuristic_bucket(node):\n",
        "    return 2 - node.state.b1    "
      ]
    },
    {
      "cell_type": "code",
      "execution_count": 20,
      "metadata": {
        "trusted": true
      },
      "outputs": [],
      "source": [
        "# check if state is already in the tree (from node to root)\n",
        "def duplicate(state, node):\n",
        "    while node != None:\n",
        "        if node.state == state:\n",
        "            return True\n",
        "        node = node.parent\n",
        "    return False\n",
        "\n",
        "def greedy_search(initial_state, goal_state_func, operators_func, heuristic_func):\n",
        "    root = TreeNode(initial_state)\n",
        "    queue = deque([root])\n",
        "    \n",
        "    while queue:\n",
        "        node = queue.popleft()\n",
        "        if goal_state_func(node.state):\n",
        "            return node\n",
        "        \n",
        "        for state in operators_func(node.state):\n",
        "            if duplicate(state, node):\n",
        "                continue\n",
        "\n",
        "            child = TreeNode(state, node)\n",
        "            child.heuristic = heuristic_func(child)\n",
        "            queue.append(child)\n",
        "            \n",
        "        queue = deque(sorted(queue, key=lambda node: node.heuristic))\n",
        "        \n",
        "    return None\n",
        "    "
      ]
    },
    {
      "cell_type": "markdown",
      "metadata": {},
      "source": [
        "Test it on the two buckets problem."
      ]
    },
    {
      "cell_type": "code",
      "execution_count": 21,
      "metadata": {
        "trusted": true
      },
      "outputs": [
        {
          "name": "stdout",
          "output_type": "stream",
          "text": [
            "(2, 3)\n",
            "(2, 3) <- (4, 1) <- (0, 1) <- (1, 0) <- (1, 3) <- (4, 0) <- (0, 0)\n"
          ]
        }
      ],
      "source": [
        "goal = greedy_search(BucketState(0,0), goal_bucket_state, child_bucket_states, heuristic_bucket)\n",
        "print(goal.state)\n",
        "print_solution(goal)"
      ]
    },
    {
      "cell_type": "markdown",
      "metadata": {},
      "source": [
        "##### A* Algorithm\n",
        "\n",
        "Reuse the heuristic function defined before. This is very similar to greedy search, the difference is that it takes into account the cost of the path so far"
      ]
    },
    {
      "cell_type": "code",
      "execution_count": 22,
      "metadata": {
        "trusted": true
      },
      "outputs": [],
      "source": [
        "def a_star_search(initial_state, goal_state_func, operators_func, heuristic):\n",
        "    root = TreeNode(initial_state)\n",
        "    queue = [root]\n",
        "    \n",
        "    while queue:\n",
        "        node = queue.pop(0)\n",
        "        if goal_state_func(node.state):\n",
        "            return node\n",
        "        \n",
        "        for state in operators_func(node.state):\n",
        "            if duplicate(state, node):\n",
        "                continue\n",
        "\n",
        "            child = TreeNode(state, node)\n",
        "            child.heuristic = heuristic(child)\n",
        "            # child.cost = node.cost + 1\n",
        "            child.f = child.heuristic + node.depth\n",
        "            queue.append(child)\n",
        "        \n",
        "        queue.sort(key=lambda node: node.f)\n",
        "        \n",
        "    return None"
      ]
    },
    {
      "cell_type": "markdown",
      "metadata": {},
      "source": [
        "Again, test it on the two buckets problem."
      ]
    },
    {
      "cell_type": "code",
      "execution_count": 23,
      "metadata": {
        "trusted": true
      },
      "outputs": [
        {
          "name": "stdout",
          "output_type": "stream",
          "text": [
            "(2, 3)\n",
            "(2, 3) <- (4, 1) <- (0, 1) <- (1, 0) <- (1, 3) <- (4, 0) <- (0, 0)\n"
          ]
        }
      ],
      "source": [
        "goal = a_star_search(BucketState(0,0), goal_bucket_state, child_bucket_states, heuristic_bucket)\n",
        "print(goal.state)\n",
        "print_solution(goal)"
      ]
    },
    {
      "cell_type": "markdown",
      "metadata": {},
      "source": [
        "## The Missionaries and Cannibals Problem \n",
        "\n",
        "<img src=\"https://www.gamezkingdom.com/content/images/thumbs/0002926_missionaries-and-cannibals.jpeg\" width=\"250px\" height=\"250px\" align=\"right\">\n",
        "\n",
        "Three missionaries and three cannibals are on one of the banks of the river with a boat that only takes one or two people. The boat cannot travel the river alone.\n",
        "\n",
        "The goal is to find a way to get the six to the other bank of the river without ever leaving more cannibals than missionaries on one of the banks (even at the instant they leave/join the boat) during the process."
      ]
    },
    {
      "cell_type": "markdown",
      "metadata": {},
      "source": [
        "Formulate this problem as a search problem by defining the state representation, initial state, operators (their name, preconditions, effects, and cost), and objective test."
      ]
    },
    {
      "cell_type": "raw",
      "metadata": {},
      "source": [
        "State representation:\n",
        "- num of missionaries in bank1 (0-3)\n",
        "- num of canibals in bank1 (0-3)\n",
        "- num of missionaries in bank2 (0-3)\n",
        "- num of canibals in bank2 (0-3)\n",
        "- boat bank position (1 or 2)\n",
        "\n",
        "Initial state: (3, 3, 0, 0, 1)\n",
        "\n",
        "Goal state: (0, 0, 3, 3, 2)\n",
        "\n",
        "Actions:\n",
        "- move at most 2 people from bank1 to bank2\n",
        "- move at most 2 people from bank2 to bank1\n",
        "\n",
        "Constraints:\n",
        "- num of missionaries >= num of canibals in bank1 (only if there are missionaries, canibals alone are fine)\n",
        "- num of missionaries >= num of canibals in bank2\n",
        "- to move from bank1 to bank2, boat must be in bank1\n",
        "- to move from bank2 to bank1, boat must be in bank2\n",
        "- cannot move boat if there are no people on it\n"
      ]
    },
    {
      "cell_type": "markdown",
      "metadata": {},
      "source": [
        "Solve the problem by hand, using tree search. What solutions have you found?"
      ]
    },
    {
      "cell_type": "raw",
      "metadata": {},
      "source": [
        "(M1: 3, C1: 3, M2: 0, C2: 0, B:1) -> (M1: 2, C1: 2, M2: 1, C2: 1, B:2) -> (M1: 3, C1: 2, M2: 0, C2: 1, B:1) -> \n",
        "(M1: 3, C1: 0, M2: 0, C2: 3, B:2) -> (M1: 3, C1: 1, M2: 0, C2: 2, B:1) -> (M1: 1, C1: 1, M2: 2, C2: 2, B:2) ->\n",
        "(M1: 2, C1: 2, M2: 1, C2: 1, B:1) -> (M1: 0, C1: 2, M2: 3, C2: 1, B:2) -> (M1: 0, C1: 3, M2: 3, C2: 0, B:1) ->\n",
        "(M1: 0, C1: 1, M2: 3, C2: 2, B:2) -> (M1: 1, C1: 1, M2: 2, C2: 2, B:1) -> (M1: 0, C1: 0, M2: 3, C2: 3, B:2) Done!\n"
      ]
    },
    {
      "cell_type": "markdown",
      "metadata": {},
      "source": [
        "Represent the problem as a search problem and take advantage of the implemented search algorithms to find solutions!"
      ]
    },
    {
      "cell_type": "code",
      "execution_count": null,
      "metadata": {},
      "outputs": [],
      "source": []
    },
    {
      "cell_type": "code",
      "execution_count": 24,
      "metadata": {
        "trusted": true
      },
      "outputs": [
        {
          "name": "stdout",
          "output_type": "stream",
          "text": [
            "BFS\n",
            "( |  B|MMM CCC) <- ( CC|B  |MMM C) <- ( C|  B|MMM CC) <- ( CCC|B  |MMM ) <- ( CC|  B|MMM C) <- (MM CC|B  |M C) <- (M C|  B|MM CC) <- (MMM C|B  | CC) <- (MMM |  B| CCC) <- (MMM CC|B  | C) <- (MMM C|  B| CC) <- (MMM CCC|B  | )\n",
            "\n",
            "DFS\n",
            "( |  B|MMM CCC) <- (M C|B  |MM CC) <- ( C|  B|MMM CC) <- ( CCC|B  |MMM ) <- ( CC|  B|MMM C) <- (MM CC|B  |M C) <- (M C|  B|MM CC) <- (MMM C|B  | CC) <- (MMM |  B| CCC) <- (MMM CC|B  | C) <- (MM CC|  B|M C) <- (MMM CCC|B  | )\n"
          ]
        }
      ],
      "source": [
        "class MissionariesCannibalsState:\n",
        "    def __init__(self, m_left, c_left, m_right, c_right, boat):\n",
        "        self.m_left = m_left\n",
        "        self.c_left = c_left\n",
        "        self.m_right = m_right\n",
        "        self.c_right = c_right\n",
        "        self.boat = boat\n",
        "        \n",
        "    def __eq__(self, other):\n",
        "        return self.m_left == other.m_left and self.c_left == other.c_left and self.boat == other.boat\n",
        "    \n",
        "    def __hash__(self):\n",
        "        return hash((self.m_left, self.c_left, self.boat))\n",
        "    \n",
        "    def __str__(self):\n",
        "        # draw the missionaries as M and cannibals as C with | | representing the sides of the river\n",
        "        ml = 'M' * self.m_left\n",
        "        cl = 'C' * self.c_left\n",
        "        mr = 'M' * self.m_right\n",
        "        cr = 'C' * self.c_right\n",
        "\n",
        "        return '({} {}|{}|{} {})'.format(ml, cl, 'B  ' if self.boat == 'left' else '  B', mr, cr)\n",
        "\n",
        "        #return 'Left: M:{} C:{} | Right: M:{} C:{} | Boat: {}'.format(self.m_left, self.c_left, self.m_right, self.c_right, self.boat)\n",
        "    \n",
        "    def __repr__(self):\n",
        "        return self.__str__()\n",
        "\n",
        "    def is_valid(self):\n",
        "        if self.m_left < 0 or self.c_left < 0 or self.m_right < 0 or self.c_right < 0:\n",
        "            return False\n",
        "\n",
        "        if self.m_left < self.c_left and self.m_left > 0:\n",
        "            return False\n",
        "\n",
        "        if self.m_right < self.c_right and self.m_right > 0:\n",
        "            return False\n",
        "\n",
        "        return True\n",
        "\n",
        "\n",
        "def travel(state, missionaries, cannibals):\n",
        "    # check if the number of missionaries and cannibals is valid\n",
        "    if missionaries < 0 or cannibals < 0:\n",
        "        #print('Invalid number of missionaries({}) or cannibals({})'.format(missionaries, cannibals))\n",
        "        return None\n",
        "\n",
        "    # must have at least one missionary or cannibal\n",
        "    if missionaries == 0 and cannibals == 0:\n",
        "        #print('Must have at least one missionary or cannibal')\n",
        "        return None\n",
        "\n",
        "    # boat has 2 seats\n",
        "    if missionaries + cannibals > 2:\n",
        "        #print('Boat has only 2 seats: {} missionaries and {} cannibals were given'.format(missionaries, cannibals))\n",
        "        return None\n",
        "\n",
        "    if state.boat == 'left':\n",
        "        # if not check_left(state, missionaries, cannibals):\n",
        "        #     return None\n",
        "        res = MissionariesCannibalsState(state.m_left - missionaries, \n",
        "            state.c_left - cannibals, state.m_right + missionaries, state.c_right + cannibals, 'right')\n",
        "    else:\n",
        "        # if not check_right(state, missionaries, cannibals):\n",
        "        #     return None\n",
        "        res = MissionariesCannibalsState(state.m_left + missionaries,\n",
        "            state.c_left + cannibals, state.m_right - missionaries, state.c_right - cannibals, 'left')\n",
        "    \n",
        "    if res.is_valid():\n",
        "        return res\n",
        "    else:\n",
        "        return None\n",
        "\n",
        "def goal_missionaries_cannibals(state):\n",
        "    return state.m_left == 0 and state.c_left == 0 and state.m_right == 3 and state.c_right == 3\n",
        "\n",
        "# test travel function\n",
        "def test_travel(state):\n",
        "    print('0: {}'.format(travel(state, 1, 2))) # error\n",
        "    print('1: {}'.format(travel(state, 2, 0))) # error\n",
        "\n",
        "    s2 = travel(state, 1, 1) # move 1 missionary and 1 cannibal to the right\n",
        "    print('2: {}'.format(s2))\n",
        "\n",
        "    s3 = travel(s2, 1, 0) # move 1 missionary to the left\n",
        "    print('3: {}'.format(s3))\n",
        "\n",
        "    s4 = travel(s3, 2, 0) # should be None\n",
        "    print('4: {}'.format(s4))\n",
        "\n",
        "#test_travel(MissionariesCannibalsState(3, 3, 0, 0, 'left'))\n",
        "\n",
        "def child_missionaries_cannibals(state):\n",
        "    children = []\n",
        "    for m in range(3):\n",
        "        for c in range(3):\n",
        "            child = travel(state, m, c)\n",
        "            if child:\n",
        "                children.append(child)\n",
        "    return children\n",
        "\n",
        "# test child_missionaries_cannibals function\n",
        "def test_child_missionaries_cannibals(state):\n",
        "    print('Children of {}:'.format(state))\n",
        "    for child in child_missionaries_cannibals(state):\n",
        "        print(child)\n",
        "\n",
        "# test_child_missionaries_cannibals(MissionariesCannibalsState(3, 3, 0, 0, 'left'))\n",
        "# print()\n",
        "# test_child_missionaries_cannibals(MissionariesCannibalsState(2, 2, 1, 1, 'right'))\n",
        "\n",
        "# BFS\n",
        "print('BFS')\n",
        "goal = breadth_first_search(MissionariesCannibalsState(3, 3, 0, 0, 'left'), goal_missionaries_cannibals, child_missionaries_cannibals)\n",
        "#print(goal.state)\n",
        "print_solution(goal)\n",
        "print()\n",
        "\n",
        "# DFS\n",
        "print('DFS')\n",
        "goal = depth_first_search(MissionariesCannibalsState(3, 3, 0, 0, 'left'), goal_missionaries_cannibals, child_missionaries_cannibals)\n",
        "#print(goal.state)\n",
        "print_solution(goal)\n"
      ]
    },
    {
      "cell_type": "markdown",
      "metadata": {},
      "source": [
        "## N-Puzzle Problem\n",
        "\n",
        "The objective of this exercise is the application of search methods, with emphasis on informed\n",
        "search methods and the A\\* algorithm, to solve the well-known N-Puzzle problem. The desired\n",
        "objective self for the puzzle is as follows (0 represents the empty space):\n",
        "\n",
        "<table>\n",
        "<tr><th>9Puzzle</th><th>16Puzzle</th></tr>\n",
        "<tr>\n",
        "<td>\n",
        "\n",
        "|     |     |     |\n",
        "| --- | --- | --- |\n",
        "| 1   | 2   | 3   |\n",
        "| 4   | 5   | 6   |\n",
        "| 7   | 8   | 0   |\n",
        "\n",
        "\n",
        "</td>\n",
        "<td>\n",
        "\n",
        "|     |     |     |     |\n",
        "| --- | --- | --- | --- |\n",
        "| 1   | 2   | 3   | 4   |\n",
        "| 5   | 6   | 7   | 8   |\n",
        "| 9   | 10  | 11  | 12  |\n",
        "| 13  | 14  | 15  | 0   |\n",
        "\n",
        "</td>\n",
        "</tr>\n",
        "</table>\n",
        "\n",
        "Starting from a given initial state, the goal is to determine which operations to perform to\n",
        "solve the puzzle, reaching the desired objective self."
      ]
    },
    {
      "cell_type": "markdown",
      "metadata": {},
      "source": [
        "Formulate this problem as a search problem by defining the state representation, initial state, operators (their name, preconditions, effects, and cost), and objective test."
      ]
    },
    {
      "cell_type": "raw",
      "metadata": {},
      "source": [
        "\n",
        "\n"
      ]
    },
    {
      "cell_type": "markdown",
      "metadata": {},
      "source": [
        "Represent the problem as a search problem and take advantage of the implemented search algorithms to find solutions!\n",
        "\n",
        "For the Greedy Search and the A* Algorithm suppose the following heuristics for these methods:\n",
        "- H1 - Number of incorrect placed pieces;\n",
        "- H2 - Sum of manhattan distances from incorrect placed pieces to their correct places. \n",
        "\n",
        "Finally Compare the results obtained concerning execution time and memory space occupied in solving the following problems using the previous methods\n",
        "\n",
        "<table>\n",
        "<tr><th>Prob. 1</th><th>Prob. 2</th><th>Prob. 3</th><th>Prob. 4</th></tr>\n",
        "<tr>\n",
        "<td>\n",
        "\n",
        "|     |     |     |\n",
        "| --- | --- | --- |\n",
        "| 1   | 2   | 3   |\n",
        "| 5   | 0   | 6   |\n",
        "| 4   | 7   | 8   | \n",
        "\n",
        "</td>\n",
        "<td>\n",
        "\n",
        "|     |     |     |\n",
        "| --- | --- | --- |\n",
        "| 1   | 3   | 6   |\n",
        "| 5   | 2   | 0   |\n",
        "| 4   | 7   | 8   | \n",
        "\n",
        "</td>\n",
        "<td>\n",
        "\n",
        "|     |     |     |\n",
        "| --- | --- | --- |\n",
        "| 1   | 6   | 2   |\n",
        "| 5   | 7   | 3   |\n",
        "| 0   | 4   | 8   | \n",
        "\n",
        "</td>\n",
        "<td>\n",
        "\n",
        "|     |     |     |     |\n",
        "| --- | --- | --- | --- |\n",
        "| 5   | 1   | 3   | 4   |\n",
        "| 2   | 0   | 7   | 8   |\n",
        "| 10  | 6   | 11  | 12  |\n",
        "| 9   | 13  | 14  | 15  |\n",
        "\n",
        "</td>\n",
        "</tr>\n",
        "</table>"
      ]
    },
    {
      "cell_type": "code",
      "execution_count": null,
      "metadata": {
        "trusted": true
      },
      "outputs": [],
      "source": [
        "# the following arrays represent the problem for testing\n",
        "initial_states = [\n",
        "    [[1, 2, 3], [5, 0, 6], [4, 7, 8]],\n",
        "    [[1, 3, 6], [5, 2, 0], [4, 7, 8]],\n",
        "    [[1, 6, 2], [5, 7, 3], [0, 4, 8]],\n",
        "    [[5, 1, 3, 4], [2, 0, 7, 8], [10, 6, 11, 12], [9, 13, 14, 15]]\n",
        "]"
      ]
    },
    {
      "cell_type": "code",
      "execution_count": null,
      "metadata": {
        "trusted": true
      },
      "outputs": [],
      "source": [
        "# your code here\n"
      ]
    }
  ],
  "metadata": {
    "kernelspec": {
      "display_name": "Python 3",
      "language": "python",
      "name": "python3"
    },
    "language_info": {
      "codemirror_mode": {
        "name": "ipython",
        "version": 3
      },
      "file_extension": ".py",
      "mimetype": "text/x-python",
      "name": "python",
      "nbconvert_exporter": "python",
      "pygments_lexer": "ipython3",
      "version": "3.11.2"
    },
    "vscode": {
      "interpreter": {
        "hash": "f993f2d74f4ea150af68541c46c396813fc032e16d4f81a7dda4eb895700a56d"
      }
    }
  },
  "nbformat": 4,
  "nbformat_minor": 4
}
